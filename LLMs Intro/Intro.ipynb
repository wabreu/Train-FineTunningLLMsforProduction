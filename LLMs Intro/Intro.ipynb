{
 "cells": [
  {
   "cell_type": "code",
   "execution_count": null,
   "metadata": {},
   "outputs": [],
   "source": [
    "OPENAI_API_KEY=\"<YOUR-OPENAI-API-KEY>\""
   ]
  },
  {
   "cell_type": "code",
   "execution_count": null,
   "metadata": {},
   "outputs": [],
   "source": [
    "from dotenv import load_dotenv\n",
    "load_dotenv()"
   ]
  },
  {
   "cell_type": "code",
   "execution_count": null,
   "metadata": {},
   "outputs": [],
   "source": [
    "from dotenv import load_dotenv\n",
    "load_dotenv()\n",
    "import os\n",
    "import openai\n",
    "\n",
    "# English text to translate\n",
    "english_text = \"Hello, how are you?\"\n",
    "\n",
    "response = openai.ChatCompletion.create(\n",
    "  model=\"gpt-3.5-turbo\",\n",
    "  messages=[\n",
    "    {\"role\": \"system\", \"content\": \"You are a helpful assistant.\"},\n",
    "    {\"role\": \"user\", \"content\": f'Translate the following English text to French: \"{english_text}\"'}\n",
    "  ],\n",
    ")\n",
    "\n",
    "print(response['choices'][0]['message']['content'])"
   ]
  },
  {
   "cell_type": "code",
   "execution_count": null,
   "metadata": {},
   "outputs": [],
   "source": [
    "from dotenv import load_dotenv\n",
    "load_dotenv()\n",
    "import os\n",
    "import openai\n",
    "\n",
    "# Prompt for summarization\n",
    "prompt = \"\"\"\n",
    "Describe the following movie using emojis.\n",
    "\n",
    "{movie}: \"\"\"\n",
    "\n",
    "examples = [\n",
    "\t{ \"input\": \"Titanic\", \"output\": \"🛳️🌊❤️🧊🎶🔥🚢💔👫💑\" },\n",
    "\t{ \"input\": \"The Matrix\", \"output\": \"🕶️💊💥👾🔮🌃👨🏻‍💻🔁🔓💪\" }\n",
    "]\n",
    "\n",
    "movie = \"Toy Story\"\n",
    "response = openai.ChatCompletion.create(\n",
    "  model=\"gpt-3.5-turbo\",\n",
    "  messages=[\n",
    "        {\"role\": \"system\", \"content\": \"You are a helpful assistant.\"},\n",
    "        {\"role\": \"user\", \"content\": prompt.format(movie=examples[0][\"input\"])},\n",
    "        {\"role\": \"assistant\", \"content\": examples[0][\"output\"]},\n",
    "        {\"role\": \"user\", \"content\": prompt.format(movie=examples[1][\"input\"])},\n",
    "        {\"role\": \"assistant\", \"content\": examples[1][\"output\"]},\n",
    "        {\"role\": \"user\", \"content\": prompt.format(movie=movie)},\n",
    "  ]\n",
    ")\n",
    "\n",
    "print(response['choices'][0]['message']['content'])"
   ]
  },
  {
   "cell_type": "code",
   "execution_count": null,
   "metadata": {},
   "outputs": [],
   "source": []
  }
 ],
 "metadata": {
  "language_info": {
   "name": "python"
  }
 },
 "nbformat": 4,
 "nbformat_minor": 2
}
